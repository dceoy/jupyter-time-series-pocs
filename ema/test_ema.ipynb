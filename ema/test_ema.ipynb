{
 "cells": [
  {
   "cell_type": "code",
   "execution_count": 1,
   "id": "702ed684",
   "metadata": {},
   "outputs": [],
   "source": [
    "import logging\n",
    "import numpy as np\n",
    "import pandas as pd\n",
    "from scipy.stats import norm\n",
    "import matplotlib.pyplot as plt \n",
    "import seaborn as sns\n",
    "from ema import OptimizedEma\n",
    "\n",
    "logging.basicConfig(level=logging.INFO)\n",
    "sns.set_theme(style='darkgrid')"
   ]
  },
  {
   "cell_type": "code",
   "execution_count": 2,
   "id": "f7f9256b",
   "metadata": {},
   "outputs": [
    {
     "data": {
      "text/html": [
       "<div>\n",
       "<style scoped>\n",
       "    .dataframe tbody tr th:only-of-type {\n",
       "        vertical-align: middle;\n",
       "    }\n",
       "\n",
       "    .dataframe tbody tr th {\n",
       "        vertical-align: top;\n",
       "    }\n",
       "\n",
       "    .dataframe thead th {\n",
       "        text-align: right;\n",
       "    }\n",
       "</style>\n",
       "<table border=\"1\" class=\"dataframe\">\n",
       "  <thead>\n",
       "    <tr style=\"text-align: right;\">\n",
       "      <th></th>\n",
       "      <th>DJIA</th>\n",
       "      <th>SP500</th>\n",
       "      <th>NASDAQ100</th>\n",
       "    </tr>\n",
       "    <tr>\n",
       "      <th>DATE</th>\n",
       "      <th></th>\n",
       "      <th></th>\n",
       "      <th></th>\n",
       "    </tr>\n",
       "  </thead>\n",
       "  <tbody>\n",
       "    <tr>\n",
       "      <th>2021-01-04</th>\n",
       "      <td>30223.89</td>\n",
       "      <td>3700.65</td>\n",
       "      <td>12694.66</td>\n",
       "    </tr>\n",
       "    <tr>\n",
       "      <th>2021-01-05</th>\n",
       "      <td>30391.60</td>\n",
       "      <td>3726.86</td>\n",
       "      <td>12802.38</td>\n",
       "    </tr>\n",
       "    <tr>\n",
       "      <th>2021-01-06</th>\n",
       "      <td>30829.40</td>\n",
       "      <td>3748.14</td>\n",
       "      <td>12623.35</td>\n",
       "    </tr>\n",
       "    <tr>\n",
       "      <th>2021-01-07</th>\n",
       "      <td>31041.13</td>\n",
       "      <td>3803.79</td>\n",
       "      <td>12939.57</td>\n",
       "    </tr>\n",
       "    <tr>\n",
       "      <th>2021-01-08</th>\n",
       "      <td>31097.97</td>\n",
       "      <td>3824.68</td>\n",
       "      <td>13105.20</td>\n",
       "    </tr>\n",
       "    <tr>\n",
       "      <th>...</th>\n",
       "      <td>...</td>\n",
       "      <td>...</td>\n",
       "      <td>...</td>\n",
       "    </tr>\n",
       "    <tr>\n",
       "      <th>2021-12-27</th>\n",
       "      <td>36302.38</td>\n",
       "      <td>4791.19</td>\n",
       "      <td>16567.50</td>\n",
       "    </tr>\n",
       "    <tr>\n",
       "      <th>2021-12-28</th>\n",
       "      <td>36398.21</td>\n",
       "      <td>4786.35</td>\n",
       "      <td>16488.66</td>\n",
       "    </tr>\n",
       "    <tr>\n",
       "      <th>2021-12-29</th>\n",
       "      <td>36488.63</td>\n",
       "      <td>4793.06</td>\n",
       "      <td>16491.01</td>\n",
       "    </tr>\n",
       "    <tr>\n",
       "      <th>2021-12-30</th>\n",
       "      <td>36398.08</td>\n",
       "      <td>4778.73</td>\n",
       "      <td>16429.10</td>\n",
       "    </tr>\n",
       "    <tr>\n",
       "      <th>2021-12-31</th>\n",
       "      <td>36338.30</td>\n",
       "      <td>4766.18</td>\n",
       "      <td>16320.08</td>\n",
       "    </tr>\n",
       "  </tbody>\n",
       "</table>\n",
       "<p>252 rows × 3 columns</p>\n",
       "</div>"
      ],
      "text/plain": [
       "                DJIA    SP500  NASDAQ100\n",
       "DATE                                    \n",
       "2021-01-04  30223.89  3700.65   12694.66\n",
       "2021-01-05  30391.60  3726.86   12802.38\n",
       "2021-01-06  30829.40  3748.14   12623.35\n",
       "2021-01-07  31041.13  3803.79   12939.57\n",
       "2021-01-08  31097.97  3824.68   13105.20\n",
       "...              ...      ...        ...\n",
       "2021-12-27  36302.38  4791.19   16567.50\n",
       "2021-12-28  36398.21  4786.35   16488.66\n",
       "2021-12-29  36488.63  4793.06   16491.01\n",
       "2021-12-30  36398.08  4778.73   16429.10\n",
       "2021-12-31  36338.30  4766.18   16320.08\n",
       "\n",
       "[252 rows x 3 columns]"
      ]
     },
     "execution_count": 2,
     "metadata": {},
     "output_type": "execute_result"
    }
   ],
   "source": [
    "df_ufi = pd.read_csv('../input/us_financial_indices_2021.csv').assign(\n",
    "    DATE=lambda d: pd.to_datetime(d.DATE)\n",
    ").set_index('DATE')\n",
    "df_ufi"
   ]
  },
  {
   "cell_type": "code",
   "execution_count": 3,
   "id": "ba85f087",
   "metadata": {},
   "outputs": [
    {
     "name": "stderr",
     "output_type": "stream",
     "text": [
      "INFO:ema:self.test_size: 30\n",
      "INFO:ema:self.ewm_span_range: slice(2, 31, 1)\n",
      "INFO:ema:result: 2.0\n",
      "INFO:ema:self.ewm_span: 2\n"
     ]
    },
    {
     "data": {
      "text/html": [
       "<div>\n",
       "<style scoped>\n",
       "    .dataframe tbody tr th:only-of-type {\n",
       "        vertical-align: middle;\n",
       "    }\n",
       "\n",
       "    .dataframe tbody tr th {\n",
       "        vertical-align: top;\n",
       "    }\n",
       "\n",
       "    .dataframe thead th {\n",
       "        text-align: right;\n",
       "    }\n",
       "</style>\n",
       "<table border=\"1\" class=\"dataframe\">\n",
       "  <thead>\n",
       "    <tr style=\"text-align: right;\">\n",
       "      <th></th>\n",
       "      <th>SP500</th>\n",
       "      <th>SP500_ema</th>\n",
       "    </tr>\n",
       "    <tr>\n",
       "      <th>DATE</th>\n",
       "      <th></th>\n",
       "      <th></th>\n",
       "    </tr>\n",
       "  </thead>\n",
       "  <tbody>\n",
       "    <tr>\n",
       "      <th>2021-01-04</th>\n",
       "      <td>3700.65</td>\n",
       "      <td>3700.650000</td>\n",
       "    </tr>\n",
       "    <tr>\n",
       "      <th>2021-01-05</th>\n",
       "      <td>3726.86</td>\n",
       "      <td>3718.123333</td>\n",
       "    </tr>\n",
       "    <tr>\n",
       "      <th>2021-01-06</th>\n",
       "      <td>3748.14</td>\n",
       "      <td>3738.134444</td>\n",
       "    </tr>\n",
       "    <tr>\n",
       "      <th>2021-01-07</th>\n",
       "      <td>3803.79</td>\n",
       "      <td>3781.904815</td>\n",
       "    </tr>\n",
       "    <tr>\n",
       "      <th>2021-01-08</th>\n",
       "      <td>3824.68</td>\n",
       "      <td>3810.421605</td>\n",
       "    </tr>\n",
       "    <tr>\n",
       "      <th>...</th>\n",
       "      <td>...</td>\n",
       "      <td>...</td>\n",
       "    </tr>\n",
       "    <tr>\n",
       "      <th>2021-12-27</th>\n",
       "      <td>4791.19</td>\n",
       "      <td>4763.678658</td>\n",
       "    </tr>\n",
       "    <tr>\n",
       "      <th>2021-12-28</th>\n",
       "      <td>4786.35</td>\n",
       "      <td>4778.792886</td>\n",
       "    </tr>\n",
       "    <tr>\n",
       "      <th>2021-12-29</th>\n",
       "      <td>4793.06</td>\n",
       "      <td>4788.304295</td>\n",
       "    </tr>\n",
       "    <tr>\n",
       "      <th>2021-12-30</th>\n",
       "      <td>4778.73</td>\n",
       "      <td>4781.921432</td>\n",
       "    </tr>\n",
       "    <tr>\n",
       "      <th>2021-12-31</th>\n",
       "      <td>4766.18</td>\n",
       "      <td>4771.427144</td>\n",
       "    </tr>\n",
       "  </tbody>\n",
       "</table>\n",
       "<p>252 rows × 2 columns</p>\n",
       "</div>"
      ],
      "text/plain": [
       "              SP500    SP500_ema\n",
       "DATE                            \n",
       "2021-01-04  3700.65  3700.650000\n",
       "2021-01-05  3726.86  3718.123333\n",
       "2021-01-06  3748.14  3738.134444\n",
       "2021-01-07  3803.79  3781.904815\n",
       "2021-01-08  3824.68  3810.421605\n",
       "...             ...          ...\n",
       "2021-12-27  4791.19  4763.678658\n",
       "2021-12-28  4786.35  4778.792886\n",
       "2021-12-29  4793.06  4788.304295\n",
       "2021-12-30  4778.73  4781.921432\n",
       "2021-12-31  4766.18  4771.427144\n",
       "\n",
       "[252 rows x 2 columns]"
      ]
     },
     "execution_count": 3,
     "metadata": {},
     "output_type": "execute_result"
    }
   ],
   "source": [
    "oe = OptimizedEma(y=df_ufi.SP500, test_size=30, span_range=(2, 31))\n",
    "df_fit = oe.calculate_ema()\n",
    "df_fit"
   ]
  },
  {
   "cell_type": "code",
   "execution_count": 4,
   "id": "dc3ecdbf",
   "metadata": {},
   "outputs": [
    {
     "data": {
      "text/plain": [
       "<AxesSubplot:xlabel='DATE'>"
      ]
     },
     "execution_count": 4,
     "metadata": {},
     "output_type": "execute_result"
    },
    {
     "data": {
      "image/png": "[encoded data removed]",
      "text/plain": [
       "<Figure size 432x288 with 1 Axes>"
      ]
     },
     "metadata": {
      "needs_background": "light"
     },
     "output_type": "display_data"
    }
   ],
   "source": [
    "df_plt = df_fit.assign(SP500_ema=lambda d: d.SP500_ema.shift()).tail(60)\n",
    "df_plt.plot.line()"
   ]
  },
  {
   "cell_type": "code",
   "execution_count": 5,
   "id": "c838a5b1",
   "metadata": {},
   "outputs": [
    {
     "name": "stderr",
     "output_type": "stream",
     "text": [
      "INFO:ema:self.test_size: 125\n",
      "INFO:ema:self.ewm_span_range: slice(2, 31, 1)\n",
      "INFO:ema:result: 2.0\n",
      "INFO:ema:self.ewm_span: 2\n"
     ]
    },
    {
     "data": {
      "text/html": [
       "<div>\n",
       "<style scoped>\n",
       "    .dataframe tbody tr th:only-of-type {\n",
       "        vertical-align: middle;\n",
       "    }\n",
       "\n",
       "    .dataframe tbody tr th {\n",
       "        vertical-align: top;\n",
       "    }\n",
       "\n",
       "    .dataframe thead th {\n",
       "        text-align: right;\n",
       "    }\n",
       "</style>\n",
       "<table border=\"1\" class=\"dataframe\">\n",
       "  <thead>\n",
       "    <tr style=\"text-align: right;\">\n",
       "      <th></th>\n",
       "      <th>SP500</th>\n",
       "      <th>SP500_ema</th>\n",
       "    </tr>\n",
       "    <tr>\n",
       "      <th>DATE</th>\n",
       "      <th></th>\n",
       "      <th></th>\n",
       "    </tr>\n",
       "  </thead>\n",
       "  <tbody>\n",
       "    <tr>\n",
       "      <th>2021-01-05</th>\n",
       "      <td>0.007058</td>\n",
       "      <td>0.007058</td>\n",
       "    </tr>\n",
       "    <tr>\n",
       "      <th>2021-01-06</th>\n",
       "      <td>0.006262</td>\n",
       "      <td>0.006527</td>\n",
       "    </tr>\n",
       "    <tr>\n",
       "      <th>2021-01-07</th>\n",
       "      <td>0.010072</td>\n",
       "      <td>0.008891</td>\n",
       "    </tr>\n",
       "    <tr>\n",
       "      <th>2021-01-08</th>\n",
       "      <td>0.008297</td>\n",
       "      <td>0.008495</td>\n",
       "    </tr>\n",
       "    <tr>\n",
       "      <th>2021-01-11</th>\n",
       "      <td>0.003077</td>\n",
       "      <td>0.004883</td>\n",
       "    </tr>\n",
       "    <tr>\n",
       "      <th>...</th>\n",
       "      <td>...</td>\n",
       "      <td>...</td>\n",
       "    </tr>\n",
       "    <tr>\n",
       "      <th>2021-12-27</th>\n",
       "      <td>0.007078</td>\n",
       "      <td>0.005947</td>\n",
       "    </tr>\n",
       "    <tr>\n",
       "      <th>2021-12-28</th>\n",
       "      <td>0.004767</td>\n",
       "      <td>0.005160</td>\n",
       "    </tr>\n",
       "    <tr>\n",
       "      <th>2021-12-29</th>\n",
       "      <td>0.003805</td>\n",
       "      <td>0.004257</td>\n",
       "    </tr>\n",
       "    <tr>\n",
       "      <th>2021-12-30</th>\n",
       "      <td>0.001862</td>\n",
       "      <td>0.002661</td>\n",
       "    </tr>\n",
       "    <tr>\n",
       "      <th>2021-12-31</th>\n",
       "      <td>0.000579</td>\n",
       "      <td>0.001273</td>\n",
       "    </tr>\n",
       "  </tbody>\n",
       "</table>\n",
       "<p>251 rows × 2 columns</p>\n",
       "</div>"
      ],
      "text/plain": [
       "               SP500  SP500_ema\n",
       "DATE                           \n",
       "2021-01-05  0.007058   0.007058\n",
       "2021-01-06  0.006262   0.006527\n",
       "2021-01-07  0.010072   0.008891\n",
       "2021-01-08  0.008297   0.008495\n",
       "2021-01-11  0.003077   0.004883\n",
       "...              ...        ...\n",
       "2021-12-27  0.007078   0.005947\n",
       "2021-12-28  0.004767   0.005160\n",
       "2021-12-29  0.003805   0.004257\n",
       "2021-12-30  0.001862   0.002661\n",
       "2021-12-31  0.000579   0.001273\n",
       "\n",
       "[251 rows x 2 columns]"
      ]
     },
     "execution_count": 5,
     "metadata": {},
     "output_type": "execute_result"
    }
   ],
   "source": [
    "lr_sp500 = np.log(df_ufi.SP500).diff().iloc[1:].ewm(span=6).mean()\n",
    "oe = OptimizedEma(y=lr_sp500, span_range=(2, 31))\n",
    "df_fit = oe.calculate_ema()\n",
    "df_fit"
   ]
  },
  {
   "cell_type": "code",
   "execution_count": 6,
   "id": "0289c5c0",
   "metadata": {},
   "outputs": [
    {
     "data": {
      "text/plain": [
       "<AxesSubplot:xlabel='DATE'>"
      ]
     },
     "execution_count": 6,
     "metadata": {},
     "output_type": "execute_result"
    },
    {
     "data": {
      "image/png": "[encoded data removed]",
      "text/plain": [
       "<Figure size 432x288 with 1 Axes>"
      ]
     },
     "metadata": {
      "needs_background": "light"
     },
     "output_type": "display_data"
    }
   ],
   "source": [
    "df_plt = df_fit.assign(SP500_ema=lambda d: d.SP500_ema.shift()).tail(60)\n",
    "df_plt.plot.line()"
   ]
  }
 ],
 "metadata": {
  "kernelspec": {
   "display_name": "Python 3 (ipykernel)",
   "language": "python",
   "name": "python3"
  },
  "language_info": {
   "codemirror_mode": {
    "name": "ipython",
    "version": 3
   },
   "file_extension": ".py",
   "mimetype": "text/x-python",
   "name": "python",
   "nbconvert_exporter": "python",
   "pygments_lexer": "ipython3",
   "version": "3.10.4"
  }
 },
 "nbformat": 4,
 "nbformat_minor": 5
}
